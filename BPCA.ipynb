{
 "cells": [
  {
   "cell_type": "code",
   "execution_count": 1,
   "id": "f7cb7e86",
   "metadata": {},
   "outputs": [],
   "source": [
    "import matplotlib.pyplot as plt\n",
    "from sklearn import datasets\n",
    "from sklearn.decomposition import PCA\n",
    "from sklearn.preprocessing import StandardScaler\n",
    "import numpy as np \n",
    "import warnings\n",
    "from tqdm import tqdm\n",
    "warnings.filterwarnings(\"ignore\")"
   ]
  },
  {
   "cell_type": "code",
   "execution_count": 13,
   "id": "82b3e3a7",
   "metadata": {},
   "outputs": [],
   "source": [
    "def Bayesian_PCA(X, q, num_epochs=100):\n",
    "    \"\"\"\n",
    "    Inputs:\n",
    "    X: The input data matrix with shape (N, D), where N is the number of data points and D is the dimensionality.\n",
    "    M: The maximum possible dimensionality of the latent space.\n",
    "    num_epochs: The number of iterations for the EM algorithm.\n",
    "\n",
    "    Outputs:\n",
    "    W_MP: The estimated weight matrix with shape (D, M).\n",
    "    sigma: The estimated noise variance.\n",
    "    alpha: The estimated hyperparameters.\n",
    "    \"\"\"\n",
    "\n",
    "    # Get the number of data points (N) and the dimensionality of the data (D)\n",
    "    N, D = X.shape\n",
    "    \n",
    "    # Initialize the weight matrix (W_MP), noise variance (sigma), and hyperparameters (alpha)\n",
    "    W_MP = np.random.randn(D, q)\n",
    "    sigma = abs(np.random.random())\n",
    "    alpha = D / np.linalg.norm(W_MP, axis=0)\n",
    "\n",
    "    # Run the EM algorithm for num_epochs iterations\n",
    "    for epoch in range(num_epochs):\n",
    "        # E-step: Compute the expected values of the latent variables\n",
    "        M_matrix = W_MP.T @ W_MP + sigma * np.eye(q)  #(q,q)\n",
    "        M_inv=np.linalg.pinv(M_matrix)  #(q,q)\n",
    "\n",
    "        \n",
    "        Xn = (M_inv @ W_MP.T @ X.T).T  #(n,q)\n",
    "        Exn=[]\n",
    "\n",
    "        for i in range(N):\n",
    "            Xn_i = Xn[i].reshape(-1,1)\n",
    "            Exn.append(sigma*M_inv+Xn_i@Xn_i.T)\n",
    "\n",
    "        Exn=np.array(Exn)\n",
    "\n",
    "        # M-step: Update the weight matrix, noise variance, and hyperparameters\n",
    "        W_MP_new=(X.T@Xn)@np.linalg.pinv(Exn.sum(axis=0)+sigma*np.diag(alpha))  #(d,q)\n",
    "\n",
    "        sigma= 0\n",
    "        for i in range(N):\n",
    "            sigma+=X[i] @ X[i].T - 2* Xn[i].T @ W_MP_new.T @ X[i] + np.trace(Exn[i]@W_MP_new.T@W_MP_new)\n",
    "        sigma/=(N*D)\n",
    "        alpha = D /(np.linalg.norm(W_MP_new, axis=0)+1e-12)\n",
    "\n",
    "        # Update the weight matrix\n",
    "        W_MP = W_MP_new\n",
    "\n",
    "    return W_MP, sigma, alpha\n",
    "\n",
    "\n",
    "def project_to_latent_space(X, W_MP, sigma, alpha):\n",
    "    \"\"\"\n",
    "    Inputs:\n",
    "    X: The input data matrix with shape (N, D), where N is the number of data points and D is the dimensionality.\n",
    "    W_MP: The weight matrix with shape (D, M).\n",
    "    sigma: The noise variance.\n",
    "    alpha: The hyperparameters.\n",
    "\n",
    "    Outputs:\n",
    "    E_x_n: The expected values of the latent variables.\n",
    "    \"\"\"\n",
    "\n",
    "    # Get the dimensionality of the latent space\n",
    "    M = len(alpha)\n",
    "\n",
    "    # Compute the M matrix and its inverse\n",
    "    M_matrix = np.dot(W_MP.T, W_MP) + sigma * np.eye(M)\n",
    "    M_matrix_inverse = np.linalg.inv(M_matrix)\n",
    "\n",
    "    # Compute the expected values of the latent variables\n",
    "    E_x_n = np.dot(np.dot(X, W_MP), M_matrix_inverse)\n",
    "\n",
    "    return E_x_n\n"
   ]
  },
  {
   "cell_type": "code",
   "execution_count": 15,
   "id": "eb75d67a",
   "metadata": {},
   "outputs": [],
   "source": [
    "# Generate synthetic data with given characteristics\n",
    "np.random.seed(0)\n",
    "std_devs = np.concatenate([np.ones(3), 0.5*np.ones(7)])  # 1.0 in 3 directions and 0.5 in the remaining 7 directions\n",
    "cov_matrix = np.diag(std_devs**2)\n",
    "X = np.random.multivariate_normal(np.zeros(10), cov_matrix, size=300)\n",
    "W_MP, sigma, alphahan = Bayesian_PCA(X, q=X.shape[1]-1, num_epochs=500)"
   ]
  },
  {
   "cell_type": "code",
   "execution_count": 16,
   "id": "7277c230",
   "metadata": {},
   "outputs": [
    {
     "data": {
      "image/png": "[encoded data removed]",
      "text/plain": [
       "<Figure size 432x288 with 1 Axes>"
      ]
     },
     "metadata": {},
     "output_type": "display_data"
    }
   ],
   "source": [
    "def hinton(matrix, max_weight=None, ax=None, threshold=0.1):\n",
    "    \"\"\"Draw Hinton diagram for visualizing a weight matrix.\"\"\"\n",
    "    ax = ax if ax is not None else plt.gca()\n",
    "\n",
    "    if not max_weight:\n",
    "        max_weight = 2**np.ceil(np.log(np.abs(matrix).max())/np.log(2))\n",
    "\n",
    "    ax.patch.set_facecolor('black')\n",
    "    ax.set_aspect('equal', 'box')\n",
    "    ax.xaxis.set_major_locator(plt.NullLocator())\n",
    "    ax.yaxis.set_major_locator(plt.NullLocator())\n",
    "\n",
    "    for (x, y), w in np.ndenumerate(matrix):\n",
    "        color = 'black' if np.abs(w) <= threshold else ('black' if w > 0 else 'white')  # Change color to black if magnitude is below threshold\n",
    "        size = np.sqrt(np.abs(w))\n",
    "        rect = plt.Rectangle([x - size / 2, y - size / 2], size, size,\n",
    "                             facecolor=color, edgecolor=color)\n",
    "        ax.add_patch(rect)\n",
    "\n",
    "    ax.autoscale_view()\n",
    "    ax.invert_yaxis()\n",
    "\n",
    "# Use the function\n",
    "hinton(W_MP, threshold=0.4)\n",
    "plt.show()"
   ]
  },
  {
   "cell_type": "code",
   "execution_count": 18,
   "id": "0c9295b7",
   "metadata": {},
   "outputs": [
    {
     "name": "stderr",
     "output_type": "stream",
     "text": [
      "100%|██████████| 16/16 [03:13<00:00, 12.12s/it]\n"
     ]
    },
    {
     "data": {
      "image/png": "[encoded data removed]",
      "text/plain": [
       "<Figure size 576x360 with 1 Axes>"
      ]
     },
     "metadata": {
      "needs_background": "light"
     },
     "output_type": "display_data"
    }
   ],
   "source": [
    "# Generate synthetic data with given characteristics\n",
    "np.random.seed(0)\n",
    "std_devs = np.array([1.0, 0.9, 0.8, 0.7, 0.6, 0.5, 0.4, 0.3, 0.2, 0.1])\n",
    "cov_matrix = np.diag(std_devs**2)\n",
    "\n",
    "# effective dimensions for different N values \n",
    "effective_dimensions = []\n",
    "nb_iterations = 20\n",
    "\n",
    "for N in tqdm(range(20, 100, 5)):  # Assuming you want to increase the number of data points from 10 to 200\n",
    "    effective_dimension_experiments = []\n",
    "    for _ in range(nb_iterations):  # Perform 50 independent experiments\n",
    "        X = np.random.multivariate_normal(np.zeros(10), cov_matrix, size=N)\n",
    "        # Perform Bayesian PCA (you need to implement or import Bayesian_PCA function)\n",
    "        W_MP, sigma, alpha = Bayesian_PCA(X, q=X.shape[1]-1) \n",
    "        # Determine the effective dimension\n",
    "        effective_dimension = np.sum(alpha < 1e12)\n",
    "        effective_dimension_experiments.append(effective_dimension)\n",
    "    # Average the effective dimensions over the 50 experiments\n",
    "    effective_dimensions.append(np.mean(effective_dimension_experiments))\n",
    "\n",
    "# Plotting the results similar to Figure in the image \n",
    "plt.figure(figsize=(8,5))\n",
    "plt.plot(range(20, 100, 5), effective_dimensions,'o-', label='Effective Dimension')\n",
    "plt.xlabel('N value')\n",
    "plt.ylabel('Effective Dimension')\n",
    "plt.title('Effective Dimension vs Number of Data Points')\n",
    "plt.legend()\n",
    "plt.grid(True)\n",
    "plt.show()\n"
   ]
  },
  {
   "cell_type": "code",
   "execution_count": null,
   "id": "ce3ad743",
   "metadata": {},
   "outputs": [],
   "source": []
  }
 ],
 "metadata": {
  "kernelspec": {
   "display_name": "Python 3 (ipykernel)",
   "language": "python",
   "name": "python3"
  },
  "language_info": {
   "codemirror_mode": {
    "name": "ipython",
    "version": 3
   },
   "file_extension": ".py",
   "mimetype": "text/x-python",
   "name": "python",
   "nbconvert_exporter": "python",
   "pygments_lexer": "ipython3",
   "version": "3.9.0"
  }
 },
 "nbformat": 4,
 "nbformat_minor": 5
}
